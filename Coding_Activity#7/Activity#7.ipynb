{
 "cells": [
  {
   "cell_type": "markdown",
   "metadata": {},
   "source": [
    "<b><h2>Linear Algebra (CpE210A)<h2><b>\n",
    "    \n",
    "    \n",
    "<b><h3>Laboratory 7: Matrix Operations<h3><b>\n",
    "    \n",
    "<h7>Coded and Submitted by:<h7>\n",
    "    \n",
    "<i><h7>Gonzales, James B.<h7><i>\n",
    "    \n",
    "<i><h7>58011<h7><i>"
   ]
  },
  {
   "cell_type": "code",
   "execution_count": 1,
   "metadata": {},
   "outputs": [],
   "source": [
    "import numpy as np\n",
    "import matplotlib.pyplot as plt\n",
    "%matplotlib inline"
   ]
  },
  {
   "cell_type": "markdown",
   "metadata": {},
   "source": [
    "<b><h3>Activity<h3><b><br>\n",
    "<h4>Task 1<h4>\n",
    "<h7>Prove and implement the remaining 6 matrix multiplication properties. You may create your own matrices in which their shapes should not be lower than $(3,3)$. In your methodology, create individual flowcharts for each property and discuss the property you would then present your proofs or validity of your implementation in the results section by comparing your result to present functions from NumPy.<h7>"
   ]
  },
  {
   "cell_type": "code",
   "execution_count": 2,
   "metadata": {},
   "outputs": [
    {
     "name": "stdout",
     "output_type": "stream",
     "text": [
      "A = \n",
      " [[5 1 2]\n",
      " [2 4 1]\n",
      " [2 1 2]]\n",
      "B = \n",
      " [[3 1 1]\n",
      " [3 6 2]\n",
      " [1 2 4]]\n",
      "C = \n",
      " [[4 1 3]\n",
      " [2 1 1]\n",
      " [1 5 1]]\n"
     ]
    }
   ],
   "source": [
    "A = np.array([\n",
    "    [5,1,2],\n",
    "    [2,4,1],\n",
    "    [2,1,2]\n",
    "])\n",
    "\n",
    "B = np.array([\n",
    "    [3,1,1],\n",
    "    [3,6,2],\n",
    "    [1,2,4]\n",
    "])\n",
    "\n",
    "C = np.array([\n",
    "    [4,1,3],\n",
    "    [2,1,1],\n",
    "    [1,5,1]\n",
    "])\n",
    "print(\"A = \\n\", A)\n",
    "print(\"B = \\n\", B)\n",
    "print(\"C = \\n\", C)"
   ]
  },
  {
   "cell_type": "markdown",
   "metadata": {},
   "source": [
    "$$A \\cdot B \\neq B \\cdot A$$"
   ]
  },
  {
   "cell_type": "code",
   "execution_count": 3,
   "metadata": {},
   "outputs": [
    {
     "name": "stdout",
     "output_type": "stream",
     "text": [
      "A@B = \n",
      " [[20 15 15]\n",
      " [19 28 14]\n",
      " [11 12 12]]\n",
      "\n",
      "B@A = \n",
      " [[19  8  9]\n",
      " [31 29 16]\n",
      " [17 13 12]]\n"
     ]
    },
    {
     "data": {
      "text/plain": [
       "False"
      ]
     },
     "execution_count": 3,
     "metadata": {},
     "output_type": "execute_result"
    }
   ],
   "source": [
    "print(\"A@B = \\n\", A @ B)\n",
    "print(\"\\nB@A = \\n\", B @ A)\n",
    "np.array_equiv(A @ B, B @ A)"
   ]
  },
  {
   "cell_type": "markdown",
   "metadata": {},
   "source": [
    "$$A \\cdot (B \\cdot C) = (A \\cdot B) \\cdot C$$"
   ]
  },
  {
   "cell_type": "code",
   "execution_count": 4,
   "metadata": {},
   "outputs": [
    {
     "name": "stdout",
     "output_type": "stream",
     "text": [
      "A@(B@C) = \n",
      " [[125 110  90]\n",
      " [146 117  99]\n",
      " [ 80  83  57]]\n",
      "\n",
      "(A@B)@C = \n",
      " [[125 110  90]\n",
      " [146 117  99]\n",
      " [ 80  83  57]]\n"
     ]
    },
    {
     "data": {
      "text/plain": [
       "True"
      ]
     },
     "execution_count": 4,
     "metadata": {},
     "output_type": "execute_result"
    }
   ],
   "source": [
    "print(\"A@(B@C) = \\n\", (A @ (B@C)))\n",
    "print(\"\\n(A@B)@C = \\n\", ((A@B) @ C))\n",
    "np.array_equiv( (A @ (B@C)), ((A@B) @ C))"
   ]
  },
  {
   "cell_type": "markdown",
   "metadata": {},
   "source": [
    "$$A \\cdot (B + C) = (A \\cdot B) + (A \\cdot C)$$"
   ]
  },
  {
   "cell_type": "code",
   "execution_count": 5,
   "metadata": {},
   "outputs": [
    {
     "name": "stdout",
     "output_type": "stream",
     "text": [
      "A@(B+C) = \n",
      " [[44 31 33]\n",
      " [36 39 25]\n",
      " [23 25 21]]\n",
      "\n",
      "(A@B)+(A@C) = \n",
      " [[44 31 33]\n",
      " [36 39 25]\n",
      " [23 25 21]]\n"
     ]
    },
    {
     "data": {
      "text/plain": [
       "True"
      ]
     },
     "execution_count": 5,
     "metadata": {},
     "output_type": "execute_result"
    }
   ],
   "source": [
    "print(\"A@(B+C) = \\n\", (A @ (B+C)))\n",
    "print(\"\\n(A@B)+(A@C) = \\n\", ((A@B) + (A@C)))\n",
    "np.array_equiv( (A @ (B+C)), ((A@B) + (A@C)))"
   ]
  },
  {
   "cell_type": "markdown",
   "metadata": {},
   "source": [
    "$$(B + C) \\cdot A = (B \\cdot A) + (C \\cdot A)$$"
   ]
  },
  {
   "cell_type": "code",
   "execution_count": 6,
   "metadata": {},
   "outputs": [
    {
     "name": "stdout",
     "output_type": "stream",
     "text": [
      "(B+C)@A = \n",
      " [[47 19 24]\n",
      " [45 36 23]\n",
      " [34 35 21]]\n",
      "(B@A)+(C@A) = \n",
      " [[47 19 24]\n",
      " [45 36 23]\n",
      " [34 35 21]]\n"
     ]
    },
    {
     "data": {
      "text/plain": [
       "True"
      ]
     },
     "execution_count": 6,
     "metadata": {},
     "output_type": "execute_result"
    }
   ],
   "source": [
    "print(\"(B+C)@A = \\n\", ((B+C) @ A))\n",
    "print(\"(B@A)+(C@A) = \\n\", ((B@A) + (C@A)))\n",
    "np.array_equiv( ((B+C) @ A), ((B@A) + (C@A)))"
   ]
  },
  {
   "cell_type": "markdown",
   "metadata": {},
   "source": [
    "$$A \\cdot I = A$$"
   ]
  },
  {
   "cell_type": "code",
   "execution_count": 7,
   "metadata": {},
   "outputs": [
    {
     "name": "stdout",
     "output_type": "stream",
     "text": [
      "A@I = \n",
      " [[5 1 2]\n",
      " [2 4 1]\n",
      " [2 1 2]]\n",
      "\n",
      "A = \n",
      " [[5 1 2]\n",
      " [2 4 1]\n",
      " [2 1 2]]\n"
     ]
    },
    {
     "data": {
      "text/plain": [
       "True"
      ]
     },
     "execution_count": 7,
     "metadata": {},
     "output_type": "execute_result"
    }
   ],
   "source": [
    "I = np.eye(3, dtype=int)\n",
    "print(\"A@I = \\n\", A @ I)\n",
    "print(\"\\nA = \\n\", A)\n",
    "np.array_equiv((A @ I), A)"
   ]
  },
  {
   "cell_type": "markdown",
   "metadata": {},
   "source": [
    "$$A \\cdot \\emptyset = \\emptyset$$"
   ]
  },
  {
   "cell_type": "code",
   "execution_count": 8,
   "metadata": {},
   "outputs": [
    {
     "name": "stdout",
     "output_type": "stream",
     "text": [
      "A @ \\emptyset =\n",
      "[[0. 0. 0.]\n",
      " [0. 0. 0.]\n",
      " [0. 0. 0.]]\n",
      "\n",
      "Empty set/matrix =\n",
      "[[0. 0. 0.]\n",
      " [0. 0. 0.]\n",
      " [0. 0. 0.]]\n"
     ]
    },
    {
     "data": {
      "text/plain": [
       "True"
      ]
     },
     "execution_count": 8,
     "metadata": {},
     "output_type": "execute_result"
    }
   ],
   "source": [
    "Zero_Amat = np.zeros(A.shape)\n",
    "A_zero = A @ np.zeros(A.shape)\n",
    "\n",
    "print(\"A @ \\emptyset =\")\n",
    "print(A_zero)\n",
    "\n",
    "print(\"\\nEmpty set/matrix =\")\n",
    "print(Zero_Amat)\n",
    "\n",
    "np.array_equal(A_zero, Zero_Amat)"
   ]
  },
  {
   "cell_type": "markdown",
   "metadata": {},
   "source": [
    "$$A \\cdot A^{-1} = I$$"
   ]
  },
  {
   "cell_type": "code",
   "execution_count": 41,
   "metadata": {},
   "outputs": [
    {
     "name": "stdout",
     "output_type": "stream",
     "text": [
      "A@inverse of A= \n",
      " [[1 0 0]\n",
      " [0 1 0]\n",
      " [0 0 1]]\n",
      "\n",
      "I= \n",
      " [[1 0 0]\n",
      " [0 1 0]\n",
      " [0 0 1]]\n"
     ]
    },
    {
     "data": {
      "text/plain": [
       "True"
      ]
     },
     "execution_count": 41,
     "metadata": {},
     "output_type": "execute_result"
    }
   ],
   "source": [
    "eq1 = A @ np.linalg.inv(A)\n",
    "print(\"A@inverse of A= \\n\", eq1.astype(int))\n",
    "print(\"\\nI= \\n\", np.eye(3, dtype=int))\n",
    "\n",
    "np.array_equal(eq1.astype(int), np.eye(3, dtype=int))"
   ]
  }
 ],
 "metadata": {
  "kernelspec": {
   "display_name": "Python 3",
   "language": "python",
   "name": "python3"
  },
  "language_info": {
   "codemirror_mode": {
    "name": "ipython",
    "version": 3
   },
   "file_extension": ".py",
   "mimetype": "text/x-python",
   "name": "python",
   "nbconvert_exporter": "python",
   "pygments_lexer": "ipython3",
   "version": "3.8.3"
  }
 },
 "nbformat": 4,
 "nbformat_minor": 4
}
