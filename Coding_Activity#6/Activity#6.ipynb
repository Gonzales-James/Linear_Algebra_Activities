{
 "cells": [
  {
   "cell_type": "markdown",
   "metadata": {},
   "source": [
    "<b><h2>Linear Algebra (CpE210A)<h2><b>\n",
    "    \n",
    "    \n",
    "<b><h3>Laboratory 6: Matrices<h3><b>\n",
    "    \n",
    "<h7>Coded and Submitted by:<h7>\n",
    "    \n",
    "<i><h7>Gonzales, James B.<h7><i>\n",
    "    \n",
    "<i><h7>58011<h7><i>"
   ]
  },
  {
   "cell_type": "code",
   "execution_count": 1,
   "metadata": {},
   "outputs": [],
   "source": [
    "import numpy as np\n",
    "import matplotlib.pyplot as plt\n",
    "%matplotlib inline"
   ]
  },
  {
   "cell_type": "markdown",
   "metadata": {},
   "source": [
    "<b><h3>Task 1<h3><b><br>"
   ]
  },
  {
   "cell_type": "code",
   "execution_count": 203,
   "metadata": {},
   "outputs": [],
   "source": [
    "def mat_desc(x):\n",
    "    print(x)\n",
    "    if x.size > 0:\n",
    "        is_square = True if x.shape[0] == x.shape[1] else False \n",
    "        print(\"Shape/Size: \", x.shape)\n",
    "        print(\"Rank: \", x.ndim)\n",
    "        print(\"Is an Square Matrix: \", is_square)\n",
    "        is_zeros = not np.any(x)\n",
    "        print(\"Is an Zero Matrix: \", is_zeros)\n",
    "        is_ones = np.all((x == 1))\n",
    "        print(\"Is an Ones Matrix: \", is_ones)\n",
    "        #initialization of the length of rows and columns\n",
    "        rows = len(x);  \n",
    "        cols = len(x[0]);  \n",
    "        is_identity=True\n",
    "        #checking whether the diagonal is 1 and remaining values are 0 \n",
    "        for i in range(0, rows):  \n",
    "                for j in range(0, cols):  \n",
    "                    if(i == j and x[i][j] != 1):  \n",
    "                        is_identity = False\n",
    "                    if(i != j and x[i][j] != 0):  \n",
    "                        is_identity = False\n",
    "        if is_identity:\n",
    "            print(\"Is an Identity Matrix\")\n",
    "        else:\n",
    "            print(\"Is not an Identity Matrix\")\n",
    "        print(\"Matrix is not Null\")\n",
    "    else:   \n",
    "        print(\"Shape/Size: n/a\")\n",
    "        print(\"Rank: n/a\")\n",
    "        print(\"Is an Square Matrix: n/a\")\n",
    "        print(\"Is an Zero Matrix: n/a\")\n",
    "        print(\"Is an Ones Matrix: n/a\")\n",
    "        print(\"Is an Identity Matrix: n/a\")\n",
    "        print('Matrix is Null')  "
   ]
  },
  {
   "cell_type": "code",
   "execution_count": 204,
   "metadata": {},
   "outputs": [],
   "source": [
    "A = np.array([[1,2,3],[1,3,5],[2,2,8]])\n",
    "B = np.array([[0,0,0],[0,0,0],[0,0,0]])\n",
    "C = np.array([[1,1,1],[1,1,1],[1,1,1]])\n",
    "D = np.array([[1,0,0],\n",
    "              [0,1,0],\n",
    "              [0,0,1]])\n",
    "E = np.array([])"
   ]
  },
  {
   "cell_type": "code",
   "execution_count": 205,
   "metadata": {},
   "outputs": [
    {
     "name": "stdout",
     "output_type": "stream",
     "text": [
      "[[1 2 3]\n",
      " [1 3 5]\n",
      " [2 2 8]]\n",
      "Shape/Size:  (3, 3)\n",
      "Rank:  2\n",
      "Is an Square Matrix:  True\n",
      "Is an Zero Matrix:  False\n",
      "Is an Ones Matrix:  False\n",
      "Is not an Identity Matrix\n",
      "Matrix is not Null\n"
     ]
    }
   ],
   "source": [
    "mat_desc(A)"
   ]
  },
  {
   "cell_type": "code",
   "execution_count": 206,
   "metadata": {},
   "outputs": [
    {
     "name": "stdout",
     "output_type": "stream",
     "text": [
      "[[0 0 0]\n",
      " [0 0 0]\n",
      " [0 0 0]]\n",
      "Shape/Size:  (3, 3)\n",
      "Rank:  2\n",
      "Is an Square Matrix:  True\n",
      "Is an Zero Matrix:  True\n",
      "Is an Ones Matrix:  False\n",
      "Is not an Identity Matrix\n",
      "Matrix is not Null\n"
     ]
    }
   ],
   "source": [
    "mat_desc(B)"
   ]
  },
  {
   "cell_type": "code",
   "execution_count": 207,
   "metadata": {},
   "outputs": [
    {
     "name": "stdout",
     "output_type": "stream",
     "text": [
      "[[1 1 1]\n",
      " [1 1 1]\n",
      " [1 1 1]]\n",
      "Shape/Size:  (3, 3)\n",
      "Rank:  2\n",
      "Is an Square Matrix:  True\n",
      "Is an Zero Matrix:  False\n",
      "Is an Ones Matrix:  True\n",
      "Is not an Identity Matrix\n",
      "Matrix is not Null\n"
     ]
    }
   ],
   "source": [
    "mat_desc(C)"
   ]
  },
  {
   "cell_type": "code",
   "execution_count": 208,
   "metadata": {},
   "outputs": [
    {
     "name": "stdout",
     "output_type": "stream",
     "text": [
      "[[1 0 0]\n",
      " [0 1 0]\n",
      " [0 0 1]]\n",
      "Shape/Size:  (3, 3)\n",
      "Rank:  2\n",
      "Is an Square Matrix:  True\n",
      "Is an Zero Matrix:  False\n",
      "Is an Ones Matrix:  False\n",
      "Is an Identity Matrix\n",
      "Matrix is not Null\n"
     ]
    }
   ],
   "source": [
    "mat_desc(D)"
   ]
  },
  {
   "cell_type": "code",
   "execution_count": 211,
   "metadata": {},
   "outputs": [
    {
     "name": "stdout",
     "output_type": "stream",
     "text": [
      "[]\n",
      "Shape/Size: n/a\n",
      "Rank: n/a\n",
      "Is an Square Matrix: n/a\n",
      "Is an Zero Matrix: n/a\n",
      "Is an Ones Matrix: n/a\n",
      "Is an Identity Matrix: n/a\n",
      "Matrix is Null\n"
     ]
    }
   ],
   "source": [
    "mat_desc(E)"
   ]
  },
  {
   "cell_type": "markdown",
   "metadata": {},
   "source": [
    "<b><h3>Task 2<h3><b><br>"
   ]
  },
  {
   "cell_type": "code",
   "execution_count": 67,
   "metadata": {},
   "outputs": [],
   "source": [
    "def mat_operations(x,y):\n",
    "    print(\"Array 1: \\n\", x)\n",
    "    print(\"\\nArray 2: \\n\", y)\n",
    "    print(\"\\nIs Scalar(Array1): \",isinstance(x, (int, float, complex, bytes)))\n",
    "    print(\"\\nIs Scalar(Array2): \",isinstance(y, (int, float, complex, bytes)))\n",
    "    check_scalar1 = isinstance(x, (int, float, complex, bytes))\n",
    "    check_scalar2 = isinstance(y, (int, float, complex, bytes))\n",
    "    check_array1 = isinstance(x, np.ndarray)\n",
    "    check_array2 = isinstance(y, np.ndarray)\n",
    "    if check_scalar1 == True or check_scalar2 == True or check_array1 == True and check_array2 == True and x.shape == y.shape:\n",
    "        print(\"\\nSum of the two arrays: \")\n",
    "        print(x+y)\n",
    "        print(\"\\nDifference of two arrays: \")\n",
    "        print(x-y)\n",
    "        print(\"\\nProduct of the two arrays: \")\n",
    "        print(x*y)\n",
    "        print(\"\\nQuotient of the two arrays: \")\n",
    "        print(x/y)\n",
    "    elif check_array1 == True and check_array2 == True and x.shape != y.shape:\n",
    "        print(\"\\nCan't perform certain operations, Shapes of array should be equal.\")"
   ]
  },
  {
   "cell_type": "code",
   "execution_count": 73,
   "metadata": {},
   "outputs": [],
   "source": [
    "F = 2\n",
    "G = np.array([[1,1,2],[3,1,1],[1,8,4]])\n",
    "H = np.array([[1,9,1],[1,3,2],[1,2,5]])\n",
    "I = np.array([[9,8,7],[7,5,6],[8,3,2],[2,4,6]])\n",
    "J = np.array([[5,1,1],[3,2,1],[2,6,8]])"
   ]
  },
  {
   "cell_type": "code",
   "execution_count": 65,
   "metadata": {},
   "outputs": [
    {
     "name": "stdout",
     "output_type": "stream",
     "text": [
      "Array 1: \n",
      " 2\n",
      "\n",
      "Array 2: \n",
      " [[1 1 2]\n",
      " [3 1 1]]\n",
      "\n",
      "Is Scalar(Array1):  True\n",
      "\n",
      "Is Scalar(Array2):  False\n",
      "\n",
      "Sum of the two arrays: \n",
      "[[3 3 4]\n",
      " [5 3 3]]\n",
      "\n",
      "Difference of two arrays: \n",
      "[[ 1  1  0]\n",
      " [-1  1  1]]\n",
      "\n",
      "Product of the two arrays: \n",
      "[[2 2 4]\n",
      " [6 2 2]]\n",
      "\n",
      "Quotient of the two arrays: \n",
      "[[2.         2.         1.        ]\n",
      " [0.66666667 2.         2.        ]]\n"
     ]
    }
   ],
   "source": [
    " mat_operations(F,G)"
   ]
  },
  {
   "cell_type": "code",
   "execution_count": 70,
   "metadata": {},
   "outputs": [
    {
     "name": "stdout",
     "output_type": "stream",
     "text": [
      "Array 1: \n",
      " [[1 1 2]\n",
      " [3 1 1]\n",
      " [1 8 4]]\n",
      "\n",
      "Array 2: \n",
      " [[1 9 1]\n",
      " [1 3 2]\n",
      " [1 2 5]]\n",
      "\n",
      "Is Scalar(Array1):  False\n",
      "\n",
      "Is Scalar(Array2):  False\n",
      "\n",
      "Sum of the two arrays: \n",
      "[[ 2 10  3]\n",
      " [ 4  4  3]\n",
      " [ 2 10  9]]\n",
      "\n",
      "Difference of two arrays: \n",
      "[[ 0 -8  1]\n",
      " [ 2 -2 -1]\n",
      " [ 0  6 -1]]\n",
      "\n",
      "Product of the two arrays: \n",
      "[[ 1  9  2]\n",
      " [ 3  3  2]\n",
      " [ 1 16 20]]\n",
      "\n",
      "Quotient of the two arrays: \n",
      "[[1.         0.11111111 2.        ]\n",
      " [3.         0.33333333 0.5       ]\n",
      " [1.         4.         0.8       ]]\n"
     ]
    }
   ],
   "source": [
    " mat_operations(G,H)"
   ]
  },
  {
   "cell_type": "code",
   "execution_count": 71,
   "metadata": {},
   "outputs": [
    {
     "name": "stdout",
     "output_type": "stream",
     "text": [
      "Array 1: \n",
      " [[1 9 1]\n",
      " [1 3 2]\n",
      " [1 2 5]]\n",
      "\n",
      "Array 2: \n",
      " [[9 8 7]\n",
      " [7 5 6]\n",
      " [8 3 2]\n",
      " [2 4 6]]\n",
      "\n",
      "Is Scalar(Array1):  False\n",
      "\n",
      "Is Scalar(Array2):  False\n",
      "\n",
      "Can't perform certain operations, Shapes of array should be equal.\n"
     ]
    }
   ],
   "source": [
    " mat_operations(H,I)"
   ]
  },
  {
   "cell_type": "code",
   "execution_count": 72,
   "metadata": {},
   "outputs": [
    {
     "name": "stdout",
     "output_type": "stream",
     "text": [
      "Array 1: \n",
      " [[9 8 7]\n",
      " [7 5 6]\n",
      " [8 3 2]\n",
      " [2 4 6]]\n",
      "\n",
      "Array 2: \n",
      " [[5 1 1]\n",
      " [3 2 1]\n",
      " [2 6 8]]\n",
      "\n",
      "Is Scalar(Array1):  False\n",
      "\n",
      "Is Scalar(Array2):  False\n",
      "\n",
      "Can't perform certain operations, Shapes of array should be equal.\n"
     ]
    }
   ],
   "source": [
    " mat_operations(I,J)"
   ]
  }
 ],
 "metadata": {
  "kernelspec": {
   "display_name": "Python 3",
   "language": "python",
   "name": "python3"
  },
  "language_info": {
   "codemirror_mode": {
    "name": "ipython",
    "version": 3
   },
   "file_extension": ".py",
   "mimetype": "text/x-python",
   "name": "python",
   "nbconvert_exporter": "python",
   "pygments_lexer": "ipython3",
   "version": "3.8.3"
  }
 },
 "nbformat": 4,
 "nbformat_minor": 4
}
