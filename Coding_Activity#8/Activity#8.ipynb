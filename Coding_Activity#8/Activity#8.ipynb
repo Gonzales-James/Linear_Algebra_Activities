{
 "cells": [
  {
   "cell_type": "markdown",
   "metadata": {},
   "source": [
    "<b><h2>Linear Algebra (CpE210A)<h2><b>\n",
    "    \n",
    "    \n",
    "<b><h3>Laboratory 8: System of Linear Equations<h3><b>\n",
    "    \n",
    "<h7>Coded and Submitted by:<h7>\n",
    "    \n",
    "<i><h7>Gonzales, James B.<h7><i>\n",
    "    \n",
    "<i><h7>58011<h7><i>"
   ]
  },
  {
   "cell_type": "code",
   "execution_count": 2,
   "metadata": {},
   "outputs": [],
   "source": [
    "import numpy as np\n",
    "import matplotlib.pyplot as plt\n",
    "%matplotlib inline"
   ]
  },
  {
   "cell_type": "markdown",
   "metadata": {},
   "source": [
    "<b><h3>Exercise<h3><b>\n",
    "    \n",
    "<h7>1. Try to find your own example of a system of linear equations (minimum of 2 equations) and solve them using the inverse equation. Explain the details of your example.<h7>\n"
   ]
  },
  {
   "cell_type": "markdown",
   "metadata": {},
   "source": [
    "$$ A = \\left\\{ \\begin{array}\\\\ 2x+5y+2z=12\\\\ -5x-2y+2z=-5 \\\\ 7x+5y+5z=8 \\end{array} \\right. $$"
   ]
  },
  {
   "cell_type": "code",
   "execution_count": 6,
   "metadata": {},
   "outputs": [
    {
     "name": "stdout",
     "output_type": "stream",
     "text": [
      "Matrix x: \n",
      " [[ 2  5  2]\n",
      " [-5 -2  2]\n",
      " [ 7  5  5]]\n",
      "\n",
      "Matrix y: \n",
      " [[12]\n",
      " [-5]\n",
      " [ 8]]\n",
      "\n",
      "Result: \n",
      "[[-0.39849624]\n",
      " [ 2.82706767]\n",
      " [-0.66917293]]\n"
     ]
    }
   ],
   "source": [
    "x = np.array([\n",
    "    [2,5,2],\n",
    "    [-5,-2,2],\n",
    "    [7,5,5]\n",
    "])\n",
    "\n",
    "y = np.array([\n",
    "    [12],\n",
    "    [-5],\n",
    "    [8]\n",
    "])\n",
    "\n",
    "print(\"Matrix x: \\n\", x)\n",
    "print(\"\\nMatrix y: \\n\", y)\n",
    "\n",
    "\n",
    "x_inv = np.linalg.inv(x)\n",
    "print(\"\\nResult: \")\n",
    "print(x_inv @ y)"
   ]
  },
  {
   "cell_type": "markdown",
   "metadata": {},
   "source": [
    "<h7>2. Using your example in (1) solve it using np.linalg.solve(). Explain the function and its difference using the inverse equation.<h7>"
   ]
  },
  {
   "cell_type": "code",
   "execution_count": 5,
   "metadata": {},
   "outputs": [
    {
     "name": "stdout",
     "output_type": "stream",
     "text": [
      "Matrix x: \n",
      " [[ 2  5  2]\n",
      " [-5 -2  2]\n",
      " [ 7  5  5]]\n",
      "\n",
      "Matrix y: \n",
      " [[12]\n",
      " [-5]\n",
      " [ 8]]\n",
      "\n",
      "Result: \n",
      "[[-0.39849624]\n",
      " [ 2.82706767]\n",
      " [-0.66917293]]\n"
     ]
    }
   ],
   "source": [
    "x_inv1 = np.linalg.solve(x, y)\n",
    "\n",
    "print(\"Matrix x: \\n\", x)\n",
    "print(\"\\nMatrix y: \\n\", y)\n",
    "\n",
    "print(\"\\nResult: \")\n",
    "print(x_inv1)"
   ]
  }
 ],
 "metadata": {
  "kernelspec": {
   "display_name": "Python 3",
   "language": "python",
   "name": "python3"
  },
  "language_info": {
   "codemirror_mode": {
    "name": "ipython",
    "version": 3
   },
   "file_extension": ".py",
   "mimetype": "text/x-python",
   "name": "python",
   "nbconvert_exporter": "python",
   "pygments_lexer": "ipython3",
   "version": "3.8.3"
  }
 },
 "nbformat": 4,
 "nbformat_minor": 4
}
