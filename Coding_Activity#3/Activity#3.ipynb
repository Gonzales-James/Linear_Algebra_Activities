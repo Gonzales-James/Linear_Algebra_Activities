{
 "cells": [
  {
   "cell_type": "markdown",
   "metadata": {},
   "source": [
    "<b><h2>Linear Algebra (CpE210A)<h2><b>\n",
    "    \n",
    "    \n",
    "<b><h3>Laboratory 3: Linear Combination and Vector Spaces<h3><b>\n",
    "    \n",
    "<h7>Coded and Submitted by:<h7>\n",
    "    \n",
    "<i><h7>Gonzales, James B.<h7><i>\n",
    "    \n",
    "<i><h7>58011<h7><i>"
   ]
  },
  {
   "cell_type": "code",
   "execution_count": 1,
   "metadata": {},
   "outputs": [],
   "source": [
    "import numpy as np\n",
    "import matplotlib.pyplot as plt\n",
    "%matplotlib inline"
   ]
  },
  {
   "cell_type": "markdown",
   "metadata": {},
   "source": [
    "<b><h3>Task 1<h3><b>\n",
    "    \n",
    "$$ A = \\left\\{\\begin{array} .2x + y + 2z\\\\ 5x - 3y + 5z\\\\ x + 9z \\end{array}\\right. $$ <br>\n",
    "\n",
    "$$ A =\\begin{bmatrix} 2 & 1 & 2 \\\\ 5 & -3 & 5 \\\\ 1 & 0 & 9\\end{bmatrix} $$"
   ]
  },
  {
   "cell_type": "code",
   "execution_count": 2,
   "metadata": {},
   "outputs": [
    {
     "data": {
      "text/plain": [
       "array([[ 2,  1,  2],\n",
       "       [ 5, -3,  5],\n",
       "       [ 1,  0,  9]])"
      ]
     },
     "execution_count": 2,
     "metadata": {},
     "output_type": "execute_result"
    }
   ],
   "source": [
    "A = np.array([[2,1,2],[5,-3,5],[1,0,9]])\n",
    "A"
   ]
  },
  {
   "cell_type": "markdown",
   "metadata": {},
   "source": [
    "<b><h3>Task 2<h3><b> \n",
    "\n",
    "$$ B = \\left\\{\\begin{array} .10x + 25y\\\\ 11x - 3y\\\\ 21x + 34y \\end{array}\\right. $$ <br>\n",
    "    \n",
    "$$ B = \\begin{bmatrix} 10 & 25 \\\\ 11 & -3 \\\\ 21 & 34 \\end{bmatrix}$$"
   ]
  },
  {
   "cell_type": "code",
   "execution_count": 14,
   "metadata": {},
   "outputs": [
    {
     "data": {
      "image/png": "[encoded data removed]",
      "text/plain": [
       "<Figure size 432x288 with 1 Axes>"
      ]
     },
     "metadata": {
      "needs_background": "light"
     },
     "output_type": "display_data"
    }
   ],
   "source": [
    "B = np.array([[10,25],[11,-3],[21,34]])\n",
    "\n",
    "plt.xlim(-15,50)\n",
    "plt.ylim(-15,50)\n",
    "\n",
    "c = np.arange(-100,100)\n",
    "plt.plot(c*B[0,0], c*B[0,1], color='red') \n",
    "plt.plot(c*B[1,0], c*B[1,1], color='blue')\n",
    "plt.plot(c*B[2,0], c*B[2,1], color='green')\n",
    "\n",
    "plt.show()\n"
   ]
  }
 ],
 "metadata": {
  "kernelspec": {
   "display_name": "Python 3",
   "language": "python",
   "name": "python3"
  },
  "language_info": {
   "codemirror_mode": {
    "name": "ipython",
    "version": 3
   },
   "file_extension": ".py",
   "mimetype": "text/x-python",
   "name": "python",
   "nbconvert_exporter": "python",
   "pygments_lexer": "ipython3",
   "version": "3.8.3"
  }
 },
 "nbformat": 4,
 "nbformat_minor": 4
}
